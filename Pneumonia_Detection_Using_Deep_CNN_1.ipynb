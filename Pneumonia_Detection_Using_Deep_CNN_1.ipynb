{
 "cells": [
  {
   "cell_type": "code",
   "execution_count": 4,
   "metadata": {},
   "outputs": [],
   "source": [
    "import numpy as np\n",
    "import pandas as pd\n",
    "import cv2\n",
    "import os\n",
    "from random import shuffle\n",
    "from tqdm import tqdm\n",
    "import scipy\n",
    "import skimage\n",
    "from skimage.transform import resize"
   ]
  },
  {
   "cell_type": "code",
   "execution_count": 5,
   "metadata": {},
   "outputs": [
    {
     "name": "stdout",
     "output_type": "stream",
     "text": [
      "['test', 'test.h5', 'train', 'train.h5', 'val']\n"
     ]
    }
   ],
   "source": [
    "print(os.listdir(\"C:/Users/91989/Desktop/Project/data/chest_xray/input/\"))"
   ]
  },
  {
   "cell_type": "code",
   "execution_count": 6,
   "metadata": {},
   "outputs": [
    {
     "name": "stdout",
     "output_type": "stream",
     "text": [
      "['NORMAL', 'PNEUMONIA']\n"
     ]
    }
   ],
   "source": [
    "print(os.listdir(\"C:/Users/91989/Desktop/Project/data/chest_xray/input/train/\"))"
   ]
  },
  {
   "cell_type": "code",
   "execution_count": 7,
   "metadata": {},
   "outputs": [],
   "source": [
    "train_dir = \"C:/Users/91989/Desktop/Project/data/chest_xray/input/train/\"\n",
    "test_dir = \"C:/Users/91989/Desktop/Project/data/chest_xray/input/test/\""
   ]
  },
  {
   "cell_type": "code",
   "execution_count": 8,
   "metadata": {},
   "outputs": [],
   "source": [
    "def get_data(Dir):\n",
    "    X=[]\n",
    "    y=[]\n",
    "    \n",
    "    for nextdir in os.listdir(Dir):\n",
    "        if not nextdir.startswith('.'):\n",
    "            if nextdir in ['NORMAL']:\n",
    "                label = 0\n",
    "            elif nextdir in ['PNEUMONIA']:\n",
    "                label = 1\n",
    "            else:\n",
    "                label = 2\n",
    "            \n",
    "            temp = Dir + nextdir\n",
    "            \n",
    "            for file in tqdm(os.listdir(temp)):\n",
    "                img = cv2.imread(temp + '/' + file)\n",
    "                if img is not None:\n",
    "                    img = skimage.transform.resize(img, (150,150,3))\n",
    "                    img = np.asarray(img)\n",
    "                    X.append(img)\n",
    "                    y.append(label)\n",
    "                    \n",
    "    X = np.asarray(X)\n",
    "    y = np.asarray(y)  \n",
    "    return X,y"
   ]
  },
  {
   "cell_type": "code",
   "execution_count": 9,
   "metadata": {},
   "outputs": [],
   "source": [
    "import h5py"
   ]
  },
  {
   "cell_type": "code",
   "execution_count": 10,
   "metadata": {},
   "outputs": [
    {
     "name": "stderr",
     "output_type": "stream",
     "text": [
      "Using TensorFlow backend.\n"
     ]
    },
    {
     "name": "stdout",
     "output_type": "stream",
     "text": [
      "Loaded images from C:/Users/91989/Desktop/Project/data/chest_xray/input/train.h5\n"
     ]
    }
   ],
   "source": [
    "from keras.utils.np_utils import to_categorical\n",
    "\n",
    "num_classes = 2\n",
    "image_dims = (150,150,3)\n",
    "file_name = 'C:/Users/91989/Desktop/Project/data/chest_xray/input/train.h5' \n",
    "\n",
    "try:\n",
    "    with h5py.File(file_name) as hdf:\n",
    "        X_train,y_train = hdf['imgs'][:],hdf['labels'][:]\n",
    "        print(\"Loaded images from {}\".format(file_name))\n",
    "\n",
    "except(IOError, OSError, KeyError):\n",
    "    print(\"Error in reading {}. Processing all images...\".format(file_name))\n",
    "    \n",
    "    X_train,y_train = get_data(train_dir)\n",
    "    y_train=to_categorical(y_train,num_classes)\n",
    "    \n",
    "    with h5py.File(filename, 'w') as hdf:\n",
    "        hdf.create_dataset('imgs', data=X_train)\n",
    "        hdf.create_dataset('labels',data=y_train)"
   ]
  },
  {
   "cell_type": "code",
   "execution_count": 11,
   "metadata": {},
   "outputs": [
    {
     "name": "stdout",
     "output_type": "stream",
     "text": [
      "Loaded images from C:/Users/91989/Desktop/Project/data/chest_xray/input/test.h5\n"
     ]
    }
   ],
   "source": [
    "file_name = 'C:/Users/91989/Desktop/Project/data/chest_xray/input/test.h5'\n",
    "\n",
    "try:\n",
    "    with h5py.File(file_name) as hdf:\n",
    "        X_test, y_test = hdf['imgs'][:], hdf['labels'][:]\n",
    "    print(\"Loaded images from {}\".format(file_name))\n",
    "\n",
    "except(IOError, OSError, KeyError):\n",
    "    print(\"Error in reading {}. Processing all images...\".format(file_name))\n",
    "    \n",
    "    X_test,y_test = get_data(test_dir) \n",
    "    y_test = to_categorical(y_test, num_classes)\n",
    "    \n",
    "    with h5py.File(file_name,'w') as hdf:\n",
    "        hdf.create_dataset('imgs', data=X_test)\n",
    "        hdf.create_dataset('labels', data=y_test)"
   ]
  },
  {
   "cell_type": "code",
   "execution_count": 12,
   "metadata": {},
   "outputs": [
    {
     "name": "stdout",
     "output_type": "stream",
     "text": [
      "Training X images:(5216, 150, 150, 3) \n",
      "  Training y labels:(5216, 2)\n",
      "Testing X images:(624, 150, 150, 3) \n",
      "  Testing y labels:(624, 2)\n"
     ]
    }
   ],
   "source": [
    "print('Training X images:{} \\n  Training y labels:{}'.format(X_train.shape,y_train.shape))\n",
    "print('Testing X images:{} \\n  Testing y labels:{}'.format(X_test.shape,y_test.shape))"
   ]
  },
  {
   "cell_type": "code",
   "execution_count": 13,
   "metadata": {},
   "outputs": [],
   "source": [
    "Pimages = os.listdir(train_dir+\"PNEUMONIA\")\n",
    "Nimages = os.listdir(train_dir+\"NORMAL\")"
   ]
  },
  {
   "cell_type": "code",
   "execution_count": 14,
   "metadata": {},
   "outputs": [
    {
     "name": "stdout",
     "output_type": "stream",
     "text": [
      "(Left) - No Pneumonia Vs (Right) - Pneumonia\n",
      "________________________________________\n"
     ]
    },
    {
     "data": {
      "text/plain": [
       "<Figure size 1000x500 with 1 Axes>"
      ]
     },
     "metadata": {},
     "output_type": "display_data"
    },
    {
     "name": "stdout",
     "output_type": "stream",
     "text": [
      "(Left) - No Pneumonia Vs (Right) - Pneumonia\n",
      "________________________________________\n"
     ]
    },
    {
     "data": {
      "text/plain": [
       "<Figure size 1000x500 with 1 Axes>"
      ]
     },
     "metadata": {},
     "output_type": "display_data"
    },
    {
     "name": "stdout",
     "output_type": "stream",
     "text": [
      "(Left) - No Pneumonia Vs (Right) - Pneumonia\n",
      "________________________________________\n"
     ]
    },
    {
     "data": {
      "text/plain": [
       "<Figure size 1000x500 with 1 Axes>"
      ]
     },
     "metadata": {},
     "output_type": "display_data"
    },
    {
     "name": "stdout",
     "output_type": "stream",
     "text": [
      "(Left) - No Pneumonia Vs (Right) - Pneumonia\n",
      "________________________________________\n"
     ]
    },
    {
     "data": {
      "text/plain": [
       "<Figure size 1000x500 with 1 Axes>"
      ]
     },
     "metadata": {},
     "output_type": "display_data"
    }
   ],
   "source": [
    "import matplotlib.pyplot as plt\n",
    "\n",
    "def plotter(i):\n",
    "    imagep1 = cv2.imread(train_dir+\"PNEUMONIA/\"+Pimages[i])\n",
    "    imagep1 = skimage.transform.resize(imagep1, (150, 150, 3), mode='reflect')\n",
    "    imagen1 = cv2.imread(train_dir+\"NORMAL/\"+Nimages[i])\n",
    "    imagen1 = skimage.transform.resize(imagen1, (150, 150, 3))\n",
    "    pair = np.concatenate((imagen1,imagep1), axis=1)\n",
    "    print(\"(Left) - No Pneumonia Vs (Right) - Pneumonia\")\n",
    "    print(\"_\"*40)\n",
    "    plt.figure(figsize=(10,5))\n",
    "    plt.imshow(pair)\n",
    "    plt.show()\n",
    "\n",
    "for i in range(1,5):\n",
    "    plotter(i)"
   ]
  },
  {
   "cell_type": "code",
   "execution_count": 15,
   "metadata": {},
   "outputs": [
    {
     "data": {
      "image/png": "[encoded data removed]",
      "text/plain": [
       "<Figure size 432x288 with 1 Axes>"
      ]
     },
     "metadata": {
      "needs_background": "light"
     },
     "output_type": "display_data"
    },
    {
     "data": {
      "image/png": "[encoded data removed]",
      "text/plain": [
       "<Figure size 432x288 with 1 Axes>"
      ]
     },
     "metadata": {
      "needs_background": "light"
     },
     "output_type": "display_data"
    }
   ],
   "source": [
    "plt.bar([\"pneumonia\",\"normal\"], [len(Pimages), len(Nimages)])\n",
    "plt.title(\"Training\")\n",
    "plt.show()\n",
    "\n",
    "Pimages_test = os.listdir(test_dir+\"PNEUMONIA\")\n",
    "Nimages_test = os.listdir(test_dir+\"NORMAL\")\n",
    "\n",
    "plt.bar([\"pneumonia\",\"normal\"], [len(Pimages_test), len(Nimages_test)])\n",
    "plt.title(\"Testing\")\n",
    "plt.show()"
   ]
  },
  {
   "cell_type": "code",
   "execution_count": 16,
   "metadata": {},
   "outputs": [
    {
     "name": "stderr",
     "output_type": "stream",
     "text": [
      "C:\\Users\\91989\\Anaconda3\\lib\\site-packages\\keras\\callbacks\\callbacks.py:998: UserWarning: `epsilon` argument is deprecated and will be removed, use `min_delta` instead.\n",
      "  warnings.warn('`epsilon` argument is deprecated and '\n"
     ]
    }
   ],
   "source": [
    "from keras.callbacks import ReduceLROnPlateau, ModelCheckpoint\n",
    "lr_reduce = ReduceLROnPlateau(monitor='val_acc', factor=0.1, epsilon=0.0001, patience=1, verbose=1)"
   ]
  },
  {
   "cell_type": "code",
   "execution_count": 17,
   "metadata": {},
   "outputs": [],
   "source": [
    "filepath = \"C:/Users/91989/Desktop/Jupyter_Workspace/Final_Project/Project/data/chest_xray/output/weights.hdf5\"\n",
    "checkpoint = ModelCheckpoint(filepath, monitor='val_acc', verbose=1, save_best_only=True, mode='max')"
   ]
  },
  {
   "cell_type": "code",
   "execution_count": 18,
   "metadata": {},
   "outputs": [],
   "source": [
    "from keras.models import Sequential\n",
    "from keras.layers import Dense, Activation\n",
    "from keras.layers import Dropout\n",
    "from keras.layers import Flatten,Flatten\n",
    "from keras.constraints import maxnorm\n",
    "from keras.optimizers import SGD, RMSprop\n",
    "from keras.layers import Conv2D, BatchNormalization\n",
    "from keras.layers import MaxPooling2D\n",
    "from keras.utils import np_utils\n",
    "from keras import backend as K\n",
    "from sklearn.model_selection import GridSearchCV\n",
    "from keras.wrappers.scikit_learn import KerasClassifier"
   ]
  },
  {
   "cell_type": "code",
   "execution_count": 19,
   "metadata": {},
   "outputs": [],
   "source": [
    "X_train = X_train.reshape(5216,150,150,3)\n",
    "X_test = X_test.reshape(624,150,150,3)"
   ]
  },
  {
   "cell_type": "code",
   "execution_count": 20,
   "metadata": {},
   "outputs": [
    {
     "name": "stdout",
     "output_type": "stream",
     "text": [
      "Model: \"sequential_1\"\n",
      "_________________________________________________________________\n",
      "Layer (type)                 Output Shape              Param #   \n",
      "=================================================================\n",
      "conv2d_1 (Conv2D)            (None, 150, 150, 16)      448       \n",
      "_________________________________________________________________\n",
      "batch_normalization_1 (Batch (None, 150, 150, 16)      64        \n",
      "_________________________________________________________________\n",
      "activation_1 (Activation)    (None, 150, 150, 16)      0         \n",
      "_________________________________________________________________\n",
      "conv2d_2 (Conv2D)            (None, 150, 150, 16)      2320      \n",
      "_________________________________________________________________\n",
      "batch_normalization_2 (Batch (None, 150, 150, 16)      64        \n",
      "_________________________________________________________________\n",
      "activation_2 (Activation)    (None, 150, 150, 16)      0         \n",
      "_________________________________________________________________\n",
      "max_pooling2d_1 (MaxPooling2 (None, 75, 75, 16)        0         \n",
      "_________________________________________________________________\n",
      "conv2d_3 (Conv2D)            (None, 75, 75, 32)        4640      \n",
      "_________________________________________________________________\n",
      "batch_normalization_3 (Batch (None, 75, 75, 32)        128       \n",
      "_________________________________________________________________\n",
      "activation_3 (Activation)    (None, 75, 75, 32)        0         \n",
      "_________________________________________________________________\n",
      "conv2d_4 (Conv2D)            (None, 75, 75, 32)        9248      \n",
      "_________________________________________________________________\n",
      "batch_normalization_4 (Batch (None, 75, 75, 32)        128       \n",
      "_________________________________________________________________\n",
      "activation_4 (Activation)    (None, 75, 75, 32)        0         \n",
      "_________________________________________________________________\n",
      "max_pooling2d_2 (MaxPooling2 (None, 37, 37, 32)        0         \n",
      "_________________________________________________________________\n",
      "conv2d_5 (Conv2D)            (None, 37, 37, 64)        18496     \n",
      "_________________________________________________________________\n",
      "batch_normalization_5 (Batch (None, 37, 37, 64)        256       \n",
      "_________________________________________________________________\n",
      "activation_5 (Activation)    (None, 37, 37, 64)        0         \n",
      "_________________________________________________________________\n",
      "max_pooling2d_3 (MaxPooling2 (None, 18, 18, 64)        0         \n",
      "_________________________________________________________________\n",
      "conv2d_6 (Conv2D)            (None, 18, 18, 96)        55392     \n",
      "_________________________________________________________________\n",
      "batch_normalization_6 (Batch (None, 18, 18, 96)        384       \n",
      "_________________________________________________________________\n",
      "activation_6 (Activation)    (None, 18, 18, 96)        0         \n",
      "_________________________________________________________________\n",
      "conv2d_7 (Conv2D)            (None, 16, 16, 96)        83040     \n",
      "_________________________________________________________________\n",
      "batch_normalization_7 (Batch (None, 16, 16, 96)        384       \n",
      "_________________________________________________________________\n",
      "activation_7 (Activation)    (None, 16, 16, 96)        0         \n",
      "_________________________________________________________________\n",
      "max_pooling2d_4 (MaxPooling2 (None, 8, 8, 96)          0         \n",
      "_________________________________________________________________\n",
      "conv2d_8 (Conv2D)            (None, 8, 8, 128)         110720    \n",
      "_________________________________________________________________\n",
      "batch_normalization_8 (Batch (None, 8, 8, 128)         512       \n",
      "_________________________________________________________________\n",
      "activation_8 (Activation)    (None, 8, 8, 128)         0         \n",
      "_________________________________________________________________\n",
      "conv2d_9 (Conv2D)            (None, 6, 6, 128)         147584    \n",
      "_________________________________________________________________\n",
      "batch_normalization_9 (Batch (None, 6, 6, 128)         512       \n",
      "_________________________________________________________________\n",
      "activation_9 (Activation)    (None, 6, 6, 128)         0         \n",
      "_________________________________________________________________\n",
      "max_pooling2d_5 (MaxPooling2 (None, 3, 3, 128)         0         \n",
      "_________________________________________________________________\n",
      "flatten_1 (Flatten)          (None, 1152)              0         \n",
      "_________________________________________________________________\n",
      "dense_1 (Dense)              (None, 64)                73792     \n",
      "_________________________________________________________________\n",
      "dropout_1 (Dropout)          (None, 64)                0         \n",
      "_________________________________________________________________\n",
      "dense_2 (Dense)              (None, 2)                 130       \n",
      "=================================================================\n",
      "Total params: 508,242\n",
      "Trainable params: 507,026\n",
      "Non-trainable params: 1,216\n",
      "_________________________________________________________________\n",
      "None\n"
     ]
    }
   ],
   "source": [
    "from keras.layers.normalization import BatchNormalization\n",
    "\n",
    "def swish_activation(x):\n",
    "    return (K.sigmoid(x) * x)\n",
    "\n",
    "model = Sequential()\n",
    "\n",
    "# model.add(Conv2D(16, (3, 3), activation='relu', padding='same', input_shape=(150,150,3)))\n",
    "model.add(Conv2D(16, (3, 3), padding=\"same\",input_shape=(150,150,3)))\n",
    "model.add(BatchNormalization())\n",
    "model.add(Activation('relu'))\n",
    "model.add(Conv2D(16, (3,3), padding=\"same\"))\n",
    "model.add(BatchNormalization())\n",
    "model.add(Activation('relu'))\n",
    "model.add(MaxPooling2D(pool_size=(2, 2)))\n",
    "\n",
    "# model.add(Conv2D(32, (3, 3), activation='relu', padding='same', input_shape=(150,150,3)))\n",
    "model.add(Conv2D(32, (3, 3), padding=\"same\", input_shape=(150,150,3)))\n",
    "model.add(BatchNormalization())\n",
    "model.add(Activation('relu'))\n",
    "model.add(Conv2D(32, (3, 3), padding=\"same\"))\n",
    "model.add(BatchNormalization())\n",
    "model.add(Activation('relu'))\n",
    "model.add(MaxPooling2D(pool_size=(2, 2)))\n",
    "\n",
    "# model.add(Conv2D(64, (3, 3), activation='relu', padding='same'))\n",
    "model.add(Conv2D(64, (3, 3), padding=\"same\"))\n",
    "model.add(BatchNormalization())\n",
    "model.add(Activation('relu'))\n",
    "model.add(MaxPooling2D(pool_size=(2, 2)))\n",
    "\n",
    "# model.add(Conv2D(96, (3, 3), dilation_rate=(2, 2), activation='relu', padding='same'))\n",
    "model.add(Conv2D(96, (3, 3), dilation_rate=(2,2), padding=\"same\"))\n",
    "model.add(BatchNormalization())\n",
    "model.add(Activation('relu'))\n",
    "model.add(Conv2D(96, (3, 3), padding=\"valid\"))\n",
    "model.add(BatchNormalization())\n",
    "model.add(Activation('relu'))\n",
    "model.add(MaxPooling2D(pool_size=(2, 2)))\n",
    "\n",
    "# model.add(Conv2D(128, (3, 3), dilation_rate=(2, 2), activation='relu', padding='same'))\n",
    "model.add(Conv2D(128, (3, 3), dilation_rate=(2,2), padding=\"same\"))\n",
    "model.add(BatchNormalization())\n",
    "model.add(Activation('relu'))\n",
    "model.add(Conv2D(128, (3,3), padding=\"valid\"))\n",
    "model.add(BatchNormalization())\n",
    "model.add(Activation('relu'))\n",
    "model.add(MaxPooling2D(pool_size=(2, 2)))\n",
    "\n",
    "model.add(Flatten())\n",
    "\n",
    "model.add(Dense(64, activation=swish_activation))\n",
    "model.add(Dropout(0.4))\n",
    "model.add(Dense(2 , activation='sigmoid'))\n",
    "\n",
    "model.compile(loss='binary_crossentropy', optimizer=RMSprop(lr=0.00005), metrics=['accuracy'])\n",
    "\n",
    "print(model.summary())\n"
   ]
  },
  {
   "cell_type": "code",
   "execution_count": 33,
   "metadata": {},
   "outputs": [],
   "source": [
    "batch_size=256\n",
    "epochs=5"
   ]
  },
  {
   "cell_type": "code",
   "execution_count": 34,
   "metadata": {},
   "outputs": [
    {
     "name": "stdout",
     "output_type": "stream",
     "text": [
      "Train on 5216 samples, validate on 624 samples\n",
      "Epoch 1/5\n",
      "5216/5216 [==============================] - ETA: 6:47 - loss: 0.0297 - accuracy: 1.00 - ETA: 6:19 - loss: 0.0306 - accuracy: 1.00 - ETA: 6:07 - loss: 0.0299 - accuracy: 1.00 - ETA: 6:05 - loss: 0.0316 - accuracy: 0.99 - ETA: 6:13 - loss: 0.0285 - accuracy: 0.99 - ETA: 6:19 - loss: 0.0282 - accuracy: 0.99 - ETA: 6:15 - loss: 0.0554 - accuracy: 0.99 - ETA: 6:11 - loss: 0.0539 - accuracy: 0.98 - ETA: 6:05 - loss: 0.0544 - accuracy: 0.98 - ETA: 6:01 - loss: 0.0510 - accuracy: 0.98 - ETA: 6:03 - loss: 0.0478 - accuracy: 0.98 - ETA: 6:01 - loss: 0.0467 - accuracy: 0.98 - ETA: 5:58 - loss: 0.0448 - accuracy: 0.99 - ETA: 5:56 - loss: 0.0495 - accuracy: 0.98 - ETA: 5:54 - loss: 0.0504 - accuracy: 0.98 - ETA: 5:56 - loss: 0.0486 - accuracy: 0.98 - ETA: 6:01 - loss: 0.0476 - accuracy: 0.98 - ETA: 6:03 - loss: 0.0457 - accuracy: 0.98 - ETA: 5:58 - loss: 0.0462 - accuracy: 0.98 - ETA: 5:58 - loss: 0.0444 - accuracy: 0.98 - ETA: 5:57 - loss: 0.0430 - accuracy: 0.98 - ETA: 5:55 - loss: 0.0430 - accuracy: 0.98 - ETA: 5:50 - loss: 0.0432 - accuracy: 0.98 - ETA: 5:45 - loss: 0.0457 - accuracy: 0.98 - ETA: 5:40 - loss: 0.0455 - accuracy: 0.98 - ETA: 5:36 - loss: 0.0484 - accuracy: 0.98 - ETA: 5:31 - loss: 0.0497 - accuracy: 0.98 - ETA: 5:27 - loss: 0.0485 - accuracy: 0.98 - ETA: 5:23 - loss: 0.0480 - accuracy: 0.98 - ETA: 5:20 - loss: 0.0468 - accuracy: 0.98 - ETA: 5:19 - loss: 0.0464 - accuracy: 0.98 - ETA: 5:18 - loss: 0.0494 - accuracy: 0.98 - ETA: 5:16 - loss: 0.0488 - accuracy: 0.98 - ETA: 5:16 - loss: 0.0478 - accuracy: 0.98 - ETA: 5:15 - loss: 0.0474 - accuracy: 0.98 - ETA: 5:13 - loss: 0.0466 - accuracy: 0.98 - ETA: 5:11 - loss: 0.0473 - accuracy: 0.98 - ETA: 5:08 - loss: 0.0477 - accuracy: 0.98 - ETA: 5:05 - loss: 0.0488 - accuracy: 0.98 - ETA: 5:03 - loss: 0.0494 - accuracy: 0.98 - ETA: 5:01 - loss: 0.0490 - accuracy: 0.98 - ETA: 4:59 - loss: 0.0495 - accuracy: 0.98 - ETA: 4:58 - loss: 0.0492 - accuracy: 0.98 - ETA: 4:55 - loss: 0.0512 - accuracy: 0.98 - ETA: 4:52 - loss: 0.0511 - accuracy: 0.98 - ETA: 4:50 - loss: 0.0503 - accuracy: 0.98 - ETA: 4:47 - loss: 0.0518 - accuracy: 0.98 - ETA: 4:44 - loss: 0.0519 - accuracy: 0.98 - ETA: 4:40 - loss: 0.0516 - accuracy: 0.98 - ETA: 4:37 - loss: 0.0516 - accuracy: 0.98 - ETA: 4:34 - loss: 0.0511 - accuracy: 0.98 - ETA: 4:31 - loss: 0.0504 - accuracy: 0.98 - ETA: 4:28 - loss: 0.0502 - accuracy: 0.98 - ETA: 4:24 - loss: 0.0522 - accuracy: 0.98 - ETA: 4:21 - loss: 0.0527 - accuracy: 0.98 - ETA: 4:18 - loss: 0.0524 - accuracy: 0.98 - ETA: 4:15 - loss: 0.0519 - accuracy: 0.98 - ETA: 4:12 - loss: 0.0520 - accuracy: 0.98 - ETA: 4:09 - loss: 0.0518 - accuracy: 0.98 - ETA: 4:06 - loss: 0.0518 - accuracy: 0.98 - ETA: 4:03 - loss: 0.0533 - accuracy: 0.98 - ETA: 4:00 - loss: 0.0527 - accuracy: 0.98 - ETA: 3:57 - loss: 0.0534 - accuracy: 0.98 - ETA: 3:54 - loss: 0.0535 - accuracy: 0.98 - ETA: 3:52 - loss: 0.0528 - accuracy: 0.98 - ETA: 3:49 - loss: 0.0538 - accuracy: 0.98 - ETA: 3:46 - loss: 0.0532 - accuracy: 0.98 - ETA: 3:43 - loss: 0.0527 - accuracy: 0.98 - ETA: 3:40 - loss: 0.0527 - accuracy: 0.98 - ETA: 3:38 - loss: 0.0521 - accuracy: 0.98 - ETA: 3:35 - loss: 0.0520 - accuracy: 0.98 - ETA: 3:32 - loss: 0.0514 - accuracy: 0.98 - ETA: 3:30 - loss: 0.0509 - accuracy: 0.98 - ETA: 3:27 - loss: 0.0506 - accuracy: 0.98 - ETA: 3:25 - loss: 0.0501 - accuracy: 0.98 - ETA: 3:22 - loss: 0.0497 - accuracy: 0.98 - ETA: 3:20 - loss: 0.0496 - accuracy: 0.98 - ETA: 3:17 - loss: 0.0498 - accuracy: 0.98 - ETA: 3:15 - loss: 0.0496 - accuracy: 0.98 - ETA: 3:12 - loss: 0.0491 - accuracy: 0.98 - ETA: 3:10 - loss: 0.0491 - accuracy: 0.98 - ETA: 3:07 - loss: 0.0491 - accuracy: 0.98 - ETA: 3:05 - loss: 0.0490 - accuracy: 0.98 - ETA: 3:02 - loss: 0.0488 - accuracy: 0.98 - ETA: 3:00 - loss: 0.0485 - accuracy: 0.98 - ETA: 2:57 - loss: 0.0483 - accuracy: 0.98 - ETA: 2:55 - loss: 0.0478 - accuracy: 0.98 - ETA: 2:52 - loss: 0.0474 - accuracy: 0.98 - ETA: 2:50 - loss: 0.0477 - accuracy: 0.98 - ETA: 2:47 - loss: 0.0473 - accuracy: 0.98 - ETA: 2:45 - loss: 0.0472 - accuracy: 0.98 - ETA: 2:42 - loss: 0.0469 - accuracy: 0.98 - ETA: 2:40 - loss: 0.0464 - accuracy: 0.98 - ETA: 2:37 - loss: 0.0464 - accuracy: 0.98 - ETA: 2:35 - loss: 0.0461 - accuracy: 0.98 - ETA: 2:33 - loss: 0.0458 - accuracy: 0.98 - ETA: 2:30 - loss: 0.0454 - accuracy: 0.98 - ETA: 2:28 - loss: 0.0456 - accuracy: 0.98 - ETA: 2:25 - loss: 0.0454 - accuracy: 0.98 - ETA: 2:23 - loss: 0.0456 - accuracy: 0.98 - ETA: 2:20 - loss: 0.0472 - accuracy: 0.98 - ETA: 2:18 - loss: 0.0468 - accuracy: 0.98 - ETA: 2:15 - loss: 0.0466 - accuracy: 0.98 - ETA: 2:13 - loss: 0.0466 - accuracy: 0.98 - ETA: 2:11 - loss: 0.0465 - accuracy: 0.98 - ETA: 2:08 - loss: 0.0462 - accuracy: 0.98 - ETA: 2:06 - loss: 0.0458 - accuracy: 0.98 - ETA: 2:04 - loss: 0.0456 - accuracy: 0.98 - ETA: 2:01 - loss: 0.0456 - accuracy: 0.98 - ETA: 1:59 - loss: 0.0453 - accuracy: 0.98 - ETA: 1:56 - loss: 0.0454 - accuracy: 0.98 - ETA: 1:54 - loss: 0.0454 - accuracy: 0.98 - ETA: 1:52 - loss: 0.0451 - accuracy: 0.98 - ETA: 1:49 - loss: 0.0449 - accuracy: 0.98 - ETA: 1:47 - loss: 0.0447 - accuracy: 0.98 - ETA: 1:45 - loss: 0.0444 - accuracy: 0.98 - ETA: 1:42 - loss: 0.0447 - accuracy: 0.98 - ETA: 1:40 - loss: 0.0447 - accuracy: 0.98 - ETA: 1:38 - loss: 0.0449 - accuracy: 0.98 - ETA: 1:36 - loss: 0.0447 - accuracy: 0.98 - ETA: 1:33 - loss: 0.0445 - accuracy: 0.98 - ETA: 1:31 - loss: 0.0446 - accuracy: 0.98 - ETA: 1:29 - loss: 0.0443 - accuracy: 0.98 - ETA: 1:27 - loss: 0.0444 - accuracy: 0.98 - ETA: 1:24 - loss: 0.0443 - accuracy: 0.98 - ETA: 1:22 - loss: 0.0440 - accuracy: 0.98 - ETA: 1:20 - loss: 0.0437 - accuracy: 0.98 - ETA: 1:17 - loss: 0.0437 - accuracy: 0.98 - ETA: 1:15 - loss: 0.0434 - accuracy: 0.98 - ETA: 1:13 - loss: 0.0437 - accuracy: 0.98 - ETA: 1:11 - loss: 0.0435 - accuracy: 0.98 - ETA: 1:09 - loss: 0.0433 - accuracy: 0.98 - ETA: 1:06 - loss: 0.0431 - accuracy: 0.98 - ETA: 1:04 - loss: 0.0429 - accuracy: 0.98 - ETA: 1:02 - loss: 0.0430 - accuracy: 0.98 - ETA: 1:00 - loss: 0.0434 - accuracy: 0.98 - ETA: 57s - loss: 0.0431 - accuracy: 0.9856 - ETA: 55s - loss: 0.0429 - accuracy: 0.985 - ETA: 53s - loss: 0.0430 - accuracy: 0.985 - ETA: 51s - loss: 0.0428 - accuracy: 0.985 - ETA: 49s - loss: 0.0426 - accuracy: 0.985 - ETA: 46s - loss: 0.0436 - accuracy: 0.985 - ETA: 44s - loss: 0.0438 - accuracy: 0.985 - ETA: 42s - loss: 0.0437 - accuracy: 0.985 - ETA: 40s - loss: 0.0436 - accuracy: 0.985 - ETA: 38s - loss: 0.0438 - accuracy: 0.985 - ETA: 35s - loss: 0.0440 - accuracy: 0.985 - ETA: 33s - loss: 0.0442 - accuracy: 0.985 - ETA: 31s - loss: 0.0444 - accuracy: 0.985 - ETA: 29s - loss: 0.0442 - accuracy: 0.985 - ETA: 26s - loss: 0.0440 - accuracy: 0.985 - ETA: 24s - loss: 0.0439 - accuracy: 0.985 - ETA: 22s - loss: 0.0439 - accuracy: 0.985 - ETA: 20s - loss: 0.0439 - accuracy: 0.985 - ETA: 17s - loss: 0.0438 - accuracy: 0.985 - ETA: 15s - loss: 0.0437 - accuracy: 0.985 - ETA: 13s - loss: 0.0435 - accuracy: 0.985 - ETA: 11s - loss: 0.0434 - accuracy: 0.985 - ETA: 8s - loss: 0.0433 - accuracy: 0.985 - ETA: 6s - loss: 0.0434 - accuracy: 0.98 - ETA: 4s - loss: 0.0432 - accuracy: 0.98 - ETA: 2s - loss: 0.0444 - accuracy: 0.98 - 379s 73ms/step - loss: 0.0445 - accuracy: 0.9854 - val_loss: 0.8877 - val_accuracy: 0.7460\n",
      "Epoch 2/5\n",
      "5216/5216 [==============================] - ETA: 6:41 - loss: 0.0202 - accuracy: 1.00 - ETA: 6:12 - loss: 0.0263 - accuracy: 1.00 - ETA: 5:57 - loss: 0.0325 - accuracy: 0.99 - ETA: 5:50 - loss: 0.0263 - accuracy: 0.99 - ETA: 5:40 - loss: 0.0251 - accuracy: 0.99 - ETA: 5:39 - loss: 0.0260 - accuracy: 0.99 - ETA: 5:46 - loss: 0.0239 - accuracy: 0.99 - ETA: 5:48 - loss: 0.0230 - accuracy: 0.99 - ETA: 5:44 - loss: 0.0223 - accuracy: 0.99 - ETA: 5:43 - loss: 0.0240 - accuracy: 0.99 - ETA: 5:42 - loss: 0.0274 - accuracy: 0.99 - ETA: 5:39 - loss: 0.0299 - accuracy: 0.98 - ETA: 5:37 - loss: 0.0299 - accuracy: 0.99 - ETA: 5:35 - loss: 0.0287 - accuracy: 0.99 - ETA: 5:34 - loss: 0.0301 - accuracy: 0.98 - ETA: 5:31 - loss: 0.0296 - accuracy: 0.99 - ETA: 5:29 - loss: 0.0333 - accuracy: 0.98 - ETA: 5:28 - loss: 0.0332 - accuracy: 0.98 - ETA: 5:24 - loss: 0.0321 - accuracy: 0.99 - ETA: 5:21 - loss: 0.0323 - accuracy: 0.98 - ETA: 5:17 - loss: 0.0344 - accuracy: 0.98 - ETA: 5:15 - loss: 0.0347 - accuracy: 0.98 - ETA: 5:11 - loss: 0.0339 - accuracy: 0.98 - ETA: 5:07 - loss: 0.0334 - accuracy: 0.98 - ETA: 5:03 - loss: 0.0323 - accuracy: 0.99 - ETA: 5:00 - loss: 0.0317 - accuracy: 0.99 - ETA: 4:56 - loss: 0.0308 - accuracy: 0.99 - ETA: 4:53 - loss: 0.0306 - accuracy: 0.99 - ETA: 4:52 - loss: 0.0305 - accuracy: 0.99 - ETA: 4:52 - loss: 0.0303 - accuracy: 0.99 - ETA: 4:50 - loss: 0.0296 - accuracy: 0.99 - ETA: 4:48 - loss: 0.0302 - accuracy: 0.99 - ETA: 4:47 - loss: 0.0296 - accuracy: 0.99 - ETA: 4:44 - loss: 0.0298 - accuracy: 0.99 - ETA: 4:42 - loss: 0.0292 - accuracy: 0.99 - ETA: 4:40 - loss: 0.0293 - accuracy: 0.99 - ETA: 4:39 - loss: 0.0292 - accuracy: 0.99 - ETA: 4:36 - loss: 0.0289 - accuracy: 0.99 - ETA: 4:34 - loss: 0.0283 - accuracy: 0.99 - ETA: 4:33 - loss: 0.0282 - accuracy: 0.99 - ETA: 4:30 - loss: 0.0279 - accuracy: 0.99 - ETA: 4:29 - loss: 0.0295 - accuracy: 0.99 - ETA: 4:27 - loss: 0.0298 - accuracy: 0.99 - ETA: 4:26 - loss: 0.0293 - accuracy: 0.99 - ETA: 4:24 - loss: 0.0289 - accuracy: 0.99 - ETA: 4:22 - loss: 0.0286 - accuracy: 0.99 - ETA: 4:20 - loss: 0.0283 - accuracy: 0.99 - ETA: 4:19 - loss: 0.0279 - accuracy: 0.99 - ETA: 4:18 - loss: 0.0278 - accuracy: 0.99 - ETA: 4:16 - loss: 0.0276 - accuracy: 0.99 - ETA: 4:14 - loss: 0.0287 - accuracy: 0.99 - ETA: 4:11 - loss: 0.0297 - accuracy: 0.99 - ETA: 4:08 - loss: 0.0294 - accuracy: 0.99 - ETA: 4:05 - loss: 0.0296 - accuracy: 0.99 - ETA: 4:03 - loss: 0.0295 - accuracy: 0.99 - ETA: 4:00 - loss: 0.0295 - accuracy: 0.99 - ETA: 3:57 - loss: 0.0297 - accuracy: 0.99 - ETA: 3:55 - loss: 0.0293 - accuracy: 0.99 - ETA: 3:52 - loss: 0.0291 - accuracy: 0.99 - ETA: 3:49 - loss: 0.0288 - accuracy: 0.99 - ETA: 3:47 - loss: 0.0289 - accuracy: 0.99 - ETA: 3:45 - loss: 0.0289 - accuracy: 0.99 - ETA: 3:42 - loss: 0.0287 - accuracy: 0.99 - ETA: 3:40 - loss: 0.0286 - accuracy: 0.99 - ETA: 3:38 - loss: 0.0283 - accuracy: 0.99 - ETA: 3:36 - loss: 0.0281 - accuracy: 0.99 - ETA: 3:34 - loss: 0.0278 - accuracy: 0.99 - ETA: 3:31 - loss: 0.0275 - accuracy: 0.99 - ETA: 3:29 - loss: 0.0272 - accuracy: 0.99 - ETA: 3:26 - loss: 0.0270 - accuracy: 0.99 - ETA: 3:23 - loss: 0.0271 - accuracy: 0.99 - ETA: 3:21 - loss: 0.0268 - accuracy: 0.99 - ETA: 3:19 - loss: 0.0270 - accuracy: 0.99 - ETA: 3:16 - loss: 0.0267 - accuracy: 0.99 - ETA: 3:14 - loss: 0.0264 - accuracy: 0.99 - ETA: 3:12 - loss: 0.0271 - accuracy: 0.99 - ETA: 3:09 - loss: 0.0269 - accuracy: 0.99 - ETA: 3:07 - loss: 0.0266 - accuracy: 0.99 - ETA: 3:05 - loss: 0.0264 - accuracy: 0.99 - ETA: 3:03 - loss: 0.0264 - accuracy: 0.99 - ETA: 3:00 - loss: 0.0262 - accuracy: 0.99 - ETA: 2:58 - loss: 0.0260 - accuracy: 0.99 - ETA: 2:56 - loss: 0.0258 - accuracy: 0.99 - ETA: 2:53 - loss: 0.0256 - accuracy: 0.99 - ETA: 2:51 - loss: 0.0254 - accuracy: 0.99 - ETA: 2:49 - loss: 0.0262 - accuracy: 0.99 - ETA: 2:46 - loss: 0.0263 - accuracy: 0.99 - ETA: 2:44 - loss: 0.0268 - accuracy: 0.99 - ETA: 2:42 - loss: 0.0268 - accuracy: 0.99 - ETA: 2:40 - loss: 0.0268 - accuracy: 0.99 - ETA: 2:37 - loss: 0.0268 - accuracy: 0.99 - ETA: 2:35 - loss: 0.0268 - accuracy: 0.99 - ETA: 2:33 - loss: 0.0267 - accuracy: 0.99 - ETA: 2:31 - loss: 0.0265 - accuracy: 0.99 - ETA: 2:29 - loss: 0.0269 - accuracy: 0.99 - ETA: 2:27 - loss: 0.0267 - accuracy: 0.99 - ETA: 2:24 - loss: 0.0272 - accuracy: 0.99 - ETA: 2:22 - loss: 0.0272 - accuracy: 0.99 - ETA: 2:20 - loss: 0.0271 - accuracy: 0.99 - ETA: 2:18 - loss: 0.0269 - accuracy: 0.99 - ETA: 2:15 - loss: 0.0268 - accuracy: 0.99 - ETA: 2:14 - loss: 0.0265 - accuracy: 0.99 - ETA: 2:12 - loss: 0.0272 - accuracy: 0.99 - ETA: 2:10 - loss: 0.0271 - accuracy: 0.99 - ETA: 2:08 - loss: 0.0275 - accuracy: 0.99 - ETA: 2:05 - loss: 0.0274 - accuracy: 0.99 - ETA: 2:03 - loss: 0.0275 - accuracy: 0.99 - ETA: 2:01 - loss: 0.0273 - accuracy: 0.99 - ETA: 1:59 - loss: 0.0274 - accuracy: 0.99 - ETA: 1:56 - loss: 0.0275 - accuracy: 0.99 - ETA: 1:54 - loss: 0.0279 - accuracy: 0.99 - ETA: 1:52 - loss: 0.0278 - accuracy: 0.99 - ETA: 1:50 - loss: 0.0279 - accuracy: 0.99 - ETA: 1:48 - loss: 0.0280 - accuracy: 0.99 - ETA: 1:45 - loss: 0.0283 - accuracy: 0.99 - ETA: 1:43 - loss: 0.0284 - accuracy: 0.99 - ETA: 1:41 - loss: 0.0283 - accuracy: 0.99 - ETA: 1:39 - loss: 0.0281 - accuracy: 0.99 - ETA: 1:37 - loss: 0.0279 - accuracy: 0.99 - ETA: 1:35 - loss: 0.0278 - accuracy: 0.99 - ETA: 1:33 - loss: 0.0278 - accuracy: 0.99 - ETA: 1:30 - loss: 0.0278 - accuracy: 0.99 - ETA: 1:28 - loss: 0.0277 - accuracy: 0.99 - ETA: 1:26 - loss: 0.0276 - accuracy: 0.99 - ETA: 1:24 - loss: 0.0276 - accuracy: 0.99 - ETA: 1:22 - loss: 0.0275 - accuracy: 0.99 - ETA: 1:20 - loss: 0.0275 - accuracy: 0.99 - ETA: 1:17 - loss: 0.0275 - accuracy: 0.99 - ETA: 1:15 - loss: 0.0277 - accuracy: 0.99 - ETA: 1:13 - loss: 0.0276 - accuracy: 0.99 - ETA: 1:11 - loss: 0.0278 - accuracy: 0.99 - ETA: 1:08 - loss: 0.0278 - accuracy: 0.99 - ETA: 1:06 - loss: 0.0278 - accuracy: 0.99 - ETA: 1:04 - loss: 0.0278 - accuracy: 0.99 - ETA: 1:01 - loss: 0.0277 - accuracy: 0.99 - ETA: 59s - loss: 0.0275 - accuracy: 0.9912 - ETA: 57s - loss: 0.0281 - accuracy: 0.990 - ETA: 55s - loss: 0.0281 - accuracy: 0.990 - ETA: 52s - loss: 0.0281 - accuracy: 0.990 - ETA: 50s - loss: 0.0279 - accuracy: 0.991 - ETA: 48s - loss: 0.0280 - accuracy: 0.991 - ETA: 46s - loss: 0.0278 - accuracy: 0.991 - ETA: 44s - loss: 0.0280 - accuracy: 0.990 - ETA: 41s - loss: 0.0282 - accuracy: 0.990 - ETA: 39s - loss: 0.0285 - accuracy: 0.990 - ETA: 37s - loss: 0.0284 - accuracy: 0.990 - ETA: 35s - loss: 0.0283 - accuracy: 0.990 - ETA: 32s - loss: 0.0282 - accuracy: 0.990 - ETA: 30s - loss: 0.0281 - accuracy: 0.990 - ETA: 28s - loss: 0.0282 - accuracy: 0.990 - ETA: 26s - loss: 0.0283 - accuracy: 0.990 - ETA: 24s - loss: 0.0284 - accuracy: 0.990 - ETA: 21s - loss: 0.0283 - accuracy: 0.990 - ETA: 19s - loss: 0.0290 - accuracy: 0.990 - ETA: 17s - loss: 0.0290 - accuracy: 0.990 - ETA: 15s - loss: 0.0290 - accuracy: 0.990 - ETA: 13s - loss: 0.0293 - accuracy: 0.990 - ETA: 10s - loss: 0.0293 - accuracy: 0.990 - ETA: 8s - loss: 0.0296 - accuracy: 0.990 - ETA: 6s - loss: 0.0295 - accuracy: 0.99 - ETA: 4s - loss: 0.0296 - accuracy: 0.99 - ETA: 2s - loss: 0.0296 - accuracy: 0.99 - 367s 70ms/step - loss: 0.0297 - accuracy: 0.9899 - val_loss: 1.0022 - val_accuracy: 0.7348\n",
      "Epoch 3/5\n"
     ]
    },
    {
     "name": "stdout",
     "output_type": "stream",
     "text": [
      "5216/5216 [==============================] - ETA: 5:50 - loss: 0.0107 - accuracy: 1.00 - ETA: 5:34 - loss: 0.0159 - accuracy: 0.99 - ETA: 5:23 - loss: 0.0134 - accuracy: 0.99 - ETA: 5:19 - loss: 0.0146 - accuracy: 0.99 - ETA: 5:15 - loss: 0.0317 - accuracy: 0.99 - ETA: 5:13 - loss: 0.0320 - accuracy: 0.98 - ETA: 5:10 - loss: 0.0292 - accuracy: 0.99 - ETA: 5:10 - loss: 0.0271 - accuracy: 0.99 - ETA: 5:12 - loss: 0.0261 - accuracy: 0.99 - ETA: 5:08 - loss: 0.0244 - accuracy: 0.99 - ETA: 5:05 - loss: 0.0234 - accuracy: 0.99 - ETA: 5:02 - loss: 0.0231 - accuracy: 0.99 - ETA: 4:59 - loss: 0.0216 - accuracy: 0.99 - ETA: 4:58 - loss: 0.0208 - accuracy: 0.99 - ETA: 4:59 - loss: 0.0201 - accuracy: 0.99 - ETA: 5:02 - loss: 0.0196 - accuracy: 0.99 - ETA: 5:07 - loss: 0.0188 - accuracy: 0.99 - ETA: 5:06 - loss: 0.0215 - accuracy: 0.99 - ETA: 5:05 - loss: 0.0208 - accuracy: 0.99 - ETA: 5:03 - loss: 0.0201 - accuracy: 0.99 - ETA: 5:03 - loss: 0.0197 - accuracy: 0.99 - ETA: 5:02 - loss: 0.0201 - accuracy: 0.99 - ETA: 5:03 - loss: 0.0196 - accuracy: 0.99 - ETA: 4:59 - loss: 0.0193 - accuracy: 0.99 - ETA: 4:56 - loss: 0.0198 - accuracy: 0.99 - ETA: 4:52 - loss: 0.0198 - accuracy: 0.99 - ETA: 4:49 - loss: 0.0198 - accuracy: 0.99 - ETA: 4:46 - loss: 0.0195 - accuracy: 0.99 - ETA: 4:43 - loss: 0.0200 - accuracy: 0.99 - ETA: 4:40 - loss: 0.0196 - accuracy: 0.99 - ETA: 4:38 - loss: 0.0191 - accuracy: 0.99 - ETA: 4:35 - loss: 0.0190 - accuracy: 0.99 - ETA: 4:32 - loss: 0.0195 - accuracy: 0.99 - ETA: 4:30 - loss: 0.0190 - accuracy: 0.99 - ETA: 4:28 - loss: 0.0187 - accuracy: 0.99 - ETA: 4:25 - loss: 0.0183 - accuracy: 0.99 - ETA: 4:23 - loss: 0.0180 - accuracy: 0.99 - ETA: 4:20 - loss: 0.0181 - accuracy: 0.99 - ETA: 4:18 - loss: 0.0183 - accuracy: 0.99 - ETA: 4:16 - loss: 0.0182 - accuracy: 0.99 - ETA: 4:13 - loss: 0.0181 - accuracy: 0.99 - ETA: 4:10 - loss: 0.0182 - accuracy: 0.99 - ETA: 4:08 - loss: 0.0184 - accuracy: 0.99 - ETA: 4:05 - loss: 0.0181 - accuracy: 0.99 - ETA: 4:03 - loss: 0.0178 - accuracy: 0.99 - ETA: 4:01 - loss: 0.0177 - accuracy: 0.99 - ETA: 3:59 - loss: 0.0174 - accuracy: 0.99 - ETA: 3:56 - loss: 0.0172 - accuracy: 0.99 - ETA: 3:55 - loss: 0.0176 - accuracy: 0.99 - ETA: 3:54 - loss: 0.0174 - accuracy: 0.99 - ETA: 3:52 - loss: 0.0178 - accuracy: 0.99 - ETA: 3:50 - loss: 0.0176 - accuracy: 0.99 - ETA: 3:48 - loss: 0.0177 - accuracy: 0.99 - ETA: 3:45 - loss: 0.0183 - accuracy: 0.99 - ETA: 3:43 - loss: 0.0184 - accuracy: 0.99 - ETA: 3:41 - loss: 0.0185 - accuracy: 0.99 - ETA: 3:39 - loss: 0.0186 - accuracy: 0.99 - ETA: 3:37 - loss: 0.0184 - accuracy: 0.99 - ETA: 3:35 - loss: 0.0185 - accuracy: 0.99 - ETA: 3:33 - loss: 0.0183 - accuracy: 0.99 - ETA: 3:30 - loss: 0.0181 - accuracy: 0.99 - ETA: 3:29 - loss: 0.0193 - accuracy: 0.99 - ETA: 3:26 - loss: 0.0197 - accuracy: 0.99 - ETA: 3:24 - loss: 0.0200 - accuracy: 0.99 - ETA: 3:22 - loss: 0.0198 - accuracy: 0.99 - ETA: 3:20 - loss: 0.0196 - accuracy: 0.99 - ETA: 3:18 - loss: 0.0196 - accuracy: 0.99 - ETA: 3:15 - loss: 0.0196 - accuracy: 0.99 - ETA: 3:13 - loss: 0.0196 - accuracy: 0.99 - ETA: 3:11 - loss: 0.0196 - accuracy: 0.99 - ETA: 3:09 - loss: 0.0194 - accuracy: 0.99 - ETA: 3:07 - loss: 0.0195 - accuracy: 0.99 - ETA: 3:05 - loss: 0.0193 - accuracy: 0.99 - ETA: 3:02 - loss: 0.0192 - accuracy: 0.99 - ETA: 3:00 - loss: 0.0195 - accuracy: 0.99 - ETA: 2:58 - loss: 0.0200 - accuracy: 0.99 - ETA: 2:56 - loss: 0.0210 - accuracy: 0.99 - ETA: 2:54 - loss: 0.0208 - accuracy: 0.99 - ETA: 2:52 - loss: 0.0207 - accuracy: 0.99 - ETA: 2:50 - loss: 0.0205 - accuracy: 0.99 - ETA: 2:48 - loss: 0.0203 - accuracy: 0.99 - ETA: 2:46 - loss: 0.0203 - accuracy: 0.99 - ETA: 2:44 - loss: 0.0202 - accuracy: 0.99 - ETA: 2:42 - loss: 0.0201 - accuracy: 0.99 - ETA: 2:40 - loss: 0.0199 - accuracy: 0.99 - ETA: 2:38 - loss: 0.0198 - accuracy: 0.99 - ETA: 2:36 - loss: 0.0197 - accuracy: 0.99 - ETA: 2:34 - loss: 0.0196 - accuracy: 0.99 - ETA: 2:32 - loss: 0.0197 - accuracy: 0.99 - ETA: 2:30 - loss: 0.0196 - accuracy: 0.99 - ETA: 2:27 - loss: 0.0195 - accuracy: 0.99 - ETA: 2:25 - loss: 0.0195 - accuracy: 0.99 - ETA: 2:23 - loss: 0.0193 - accuracy: 0.99 - ETA: 2:21 - loss: 0.0192 - accuracy: 0.99 - ETA: 2:19 - loss: 0.0191 - accuracy: 0.99 - ETA: 2:17 - loss: 0.0192 - accuracy: 0.99 - ETA: 2:15 - loss: 0.0191 - accuracy: 0.99 - ETA: 2:13 - loss: 0.0190 - accuracy: 0.99 - ETA: 2:11 - loss: 0.0189 - accuracy: 0.99 - ETA: 2:09 - loss: 0.0188 - accuracy: 0.99 - ETA: 2:06 - loss: 0.0188 - accuracy: 0.99 - ETA: 2:04 - loss: 0.0187 - accuracy: 0.99 - ETA: 2:02 - loss: 0.0186 - accuracy: 0.99 - ETA: 2:00 - loss: 0.0185 - accuracy: 0.99 - ETA: 1:58 - loss: 0.0184 - accuracy: 0.99 - ETA: 1:56 - loss: 0.0184 - accuracy: 0.99 - ETA: 1:54 - loss: 0.0183 - accuracy: 0.99 - ETA: 1:52 - loss: 0.0183 - accuracy: 0.99 - ETA: 1:50 - loss: 0.0183 - accuracy: 0.99 - ETA: 1:48 - loss: 0.0181 - accuracy: 0.99 - ETA: 1:46 - loss: 0.0187 - accuracy: 0.99 - ETA: 1:44 - loss: 0.0191 - accuracy: 0.99 - ETA: 1:42 - loss: 0.0191 - accuracy: 0.99 - ETA: 1:40 - loss: 0.0190 - accuracy: 0.99 - ETA: 1:37 - loss: 0.0189 - accuracy: 0.99 - ETA: 1:35 - loss: 0.0188 - accuracy: 0.99 - ETA: 1:33 - loss: 0.0187 - accuracy: 0.99 - ETA: 1:31 - loss: 0.0186 - accuracy: 0.99 - ETA: 1:29 - loss: 0.0185 - accuracy: 0.99 - ETA: 1:27 - loss: 0.0187 - accuracy: 0.99 - ETA: 1:25 - loss: 0.0187 - accuracy: 0.99 - ETA: 1:23 - loss: 0.0187 - accuracy: 0.99 - ETA: 1:21 - loss: 0.0186 - accuracy: 0.99 - ETA: 1:19 - loss: 0.0184 - accuracy: 0.99 - ETA: 1:17 - loss: 0.0183 - accuracy: 0.99 - ETA: 1:15 - loss: 0.0183 - accuracy: 0.99 - ETA: 1:13 - loss: 0.0181 - accuracy: 0.99 - ETA: 1:11 - loss: 0.0182 - accuracy: 0.99 - ETA: 1:09 - loss: 0.0181 - accuracy: 0.99 - ETA: 1:07 - loss: 0.0182 - accuracy: 0.99 - ETA: 1:05 - loss: 0.0182 - accuracy: 0.99 - ETA: 1:03 - loss: 0.0181 - accuracy: 0.99 - ETA: 1:00 - loss: 0.0181 - accuracy: 0.99 - ETA: 58s - loss: 0.0180 - accuracy: 0.9955 - ETA: 56s - loss: 0.0179 - accuracy: 0.995 - ETA: 54s - loss: 0.0181 - accuracy: 0.995 - ETA: 52s - loss: 0.0181 - accuracy: 0.995 - ETA: 50s - loss: 0.0180 - accuracy: 0.995 - ETA: 48s - loss: 0.0186 - accuracy: 0.994 - ETA: 46s - loss: 0.0186 - accuracy: 0.995 - ETA: 44s - loss: 0.0184 - accuracy: 0.995 - ETA: 42s - loss: 0.0185 - accuracy: 0.995 - ETA: 40s - loss: 0.0188 - accuracy: 0.994 - ETA: 38s - loss: 0.0189 - accuracy: 0.994 - ETA: 36s - loss: 0.0188 - accuracy: 0.994 - ETA: 34s - loss: 0.0190 - accuracy: 0.994 - ETA: 32s - loss: 0.0190 - accuracy: 0.994 - ETA: 30s - loss: 0.0189 - accuracy: 0.994 - ETA: 28s - loss: 0.0189 - accuracy: 0.995 - ETA: 26s - loss: 0.0188 - accuracy: 0.995 - ETA: 24s - loss: 0.0187 - accuracy: 0.995 - ETA: 22s - loss: 0.0186 - accuracy: 0.995 - ETA: 20s - loss: 0.0186 - accuracy: 0.995 - ETA: 18s - loss: 0.0185 - accuracy: 0.995 - ETA: 16s - loss: 0.0184 - accuracy: 0.995 - ETA: 14s - loss: 0.0183 - accuracy: 0.995 - ETA: 12s - loss: 0.0183 - accuracy: 0.995 - ETA: 10s - loss: 0.0183 - accuracy: 0.995 - ETA: 8s - loss: 0.0183 - accuracy: 0.995 - ETA: 6s - loss: 0.0182 - accuracy: 0.99 - ETA: 4s - loss: 0.0185 - accuracy: 0.99 - ETA: 2s - loss: 0.0185 - accuracy: 0.99 - 341s 65ms/step - loss: 0.0184 - accuracy: 0.9952 - val_loss: 1.5930 - val_accuracy: 0.6987\n",
      "Epoch 4/5\n",
      "5216/5216 [==============================] - ETA: 5:16 - loss: 0.0251 - accuracy: 1.00 - ETA: 5:11 - loss: 0.0155 - accuracy: 1.00 - ETA: 5:08 - loss: 0.0119 - accuracy: 1.00 - ETA: 5:14 - loss: 0.0095 - accuracy: 1.00 - ETA: 5:13 - loss: 0.0092 - accuracy: 1.00 - ETA: 5:14 - loss: 0.0099 - accuracy: 1.00 - ETA: 5:14 - loss: 0.0149 - accuracy: 0.99 - ETA: 5:10 - loss: 0.0133 - accuracy: 0.99 - ETA: 5:07 - loss: 0.0124 - accuracy: 0.99 - ETA: 5:04 - loss: 0.0123 - accuracy: 0.99 - ETA: 5:03 - loss: 0.0118 - accuracy: 0.99 - ETA: 5:00 - loss: 0.0112 - accuracy: 0.99 - ETA: 4:58 - loss: 0.0148 - accuracy: 0.99 - ETA: 4:56 - loss: 0.0138 - accuracy: 0.99 - ETA: 4:54 - loss: 0.0154 - accuracy: 0.99 - ETA: 4:52 - loss: 0.0157 - accuracy: 0.99 - ETA: 4:49 - loss: 0.0149 - accuracy: 0.99 - ETA: 4:46 - loss: 0.0143 - accuracy: 0.99 - ETA: 4:44 - loss: 0.0146 - accuracy: 0.99 - ETA: 4:41 - loss: 0.0145 - accuracy: 0.99 - ETA: 4:39 - loss: 0.0167 - accuracy: 0.99 - ETA: 4:38 - loss: 0.0163 - accuracy: 0.99 - ETA: 4:38 - loss: 0.0157 - accuracy: 0.99 - ETA: 4:40 - loss: 0.0154 - accuracy: 0.99 - ETA: 4:38 - loss: 0.0150 - accuracy: 0.99 - ETA: 4:36 - loss: 0.0146 - accuracy: 0.99 - ETA: 4:33 - loss: 0.0141 - accuracy: 0.99 - ETA: 4:31 - loss: 0.0138 - accuracy: 0.99 - ETA: 4:29 - loss: 0.0134 - accuracy: 0.99 - ETA: 4:28 - loss: 0.0130 - accuracy: 0.99 - ETA: 4:26 - loss: 0.0141 - accuracy: 0.99 - ETA: 4:23 - loss: 0.0161 - accuracy: 0.99 - ETA: 4:21 - loss: 0.0159 - accuracy: 0.99 - ETA: 4:18 - loss: 0.0156 - accuracy: 0.99 - ETA: 4:17 - loss: 0.0156 - accuracy: 0.99 - ETA: 4:14 - loss: 0.0152 - accuracy: 0.99 - ETA: 4:13 - loss: 0.0151 - accuracy: 0.99 - ETA: 4:11 - loss: 0.0150 - accuracy: 0.99 - ETA: 4:09 - loss: 0.0149 - accuracy: 0.99 - ETA: 4:07 - loss: 0.0152 - accuracy: 0.99 - ETA: 4:05 - loss: 0.0150 - accuracy: 0.99 - ETA: 4:03 - loss: 0.0148 - accuracy: 0.99 - ETA: 4:01 - loss: 0.0158 - accuracy: 0.99 - ETA: 3:59 - loss: 0.0156 - accuracy: 0.99 - ETA: 3:57 - loss: 0.0154 - accuracy: 0.99 - ETA: 3:55 - loss: 0.0151 - accuracy: 0.99 - ETA: 3:53 - loss: 0.0150 - accuracy: 0.99 - ETA: 3:51 - loss: 0.0152 - accuracy: 0.99 - ETA: 3:49 - loss: 0.0151 - accuracy: 0.99 - ETA: 3:47 - loss: 0.0149 - accuracy: 0.99 - ETA: 3:45 - loss: 0.0146 - accuracy: 0.99 - ETA: 3:43 - loss: 0.0145 - accuracy: 0.99 - ETA: 3:41 - loss: 0.0143 - accuracy: 0.99 - ETA: 3:39 - loss: 0.0147 - accuracy: 0.99 - ETA: 3:37 - loss: 0.0147 - accuracy: 0.99 - ETA: 3:35 - loss: 0.0146 - accuracy: 0.99 - ETA: 3:33 - loss: 0.0146 - accuracy: 0.99 - ETA: 3:31 - loss: 0.0144 - accuracy: 0.99 - ETA: 3:29 - loss: 0.0142 - accuracy: 0.99 - ETA: 3:27 - loss: 0.0142 - accuracy: 0.99 - ETA: 3:25 - loss: 0.0140 - accuracy: 0.99 - ETA: 3:23 - loss: 0.0139 - accuracy: 0.99 - ETA: 3:21 - loss: 0.0138 - accuracy: 0.99 - ETA: 3:19 - loss: 0.0137 - accuracy: 0.99 - ETA: 3:17 - loss: 0.0137 - accuracy: 0.99 - ETA: 3:15 - loss: 0.0135 - accuracy: 0.99 - ETA: 3:13 - loss: 0.0135 - accuracy: 0.99 - ETA: 3:11 - loss: 0.0133 - accuracy: 0.99 - ETA: 3:09 - loss: 0.0134 - accuracy: 0.99 - ETA: 3:07 - loss: 0.0132 - accuracy: 0.99 - ETA: 3:05 - loss: 0.0131 - accuracy: 0.99 - ETA: 3:02 - loss: 0.0131 - accuracy: 0.99 - ETA: 3:00 - loss: 0.0129 - accuracy: 0.99 - ETA: 2:58 - loss: 0.0136 - accuracy: 0.99 - ETA: 2:56 - loss: 0.0134 - accuracy: 0.99 - ETA: 2:54 - loss: 0.0134 - accuracy: 0.99 - ETA: 2:52 - loss: 0.0133 - accuracy: 0.99 - ETA: 2:50 - loss: 0.0132 - accuracy: 0.99 - ETA: 2:48 - loss: 0.0132 - accuracy: 0.99 - ETA: 2:46 - loss: 0.0131 - accuracy: 0.99 - ETA: 2:44 - loss: 0.0130 - accuracy: 0.99 - ETA: 2:42 - loss: 0.0129 - accuracy: 0.99 - ETA: 2:40 - loss: 0.0128 - accuracy: 0.99 - ETA: 2:38 - loss: 0.0126 - accuracy: 0.99 - ETA: 2:36 - loss: 0.0126 - accuracy: 0.99 - ETA: 2:34 - loss: 0.0130 - accuracy: 0.99 - ETA: 2:32 - loss: 0.0129 - accuracy: 0.99 - ETA: 2:30 - loss: 0.0129 - accuracy: 0.99 - ETA: 2:28 - loss: 0.0128 - accuracy: 0.99 - ETA: 2:26 - loss: 0.0128 - accuracy: 0.99 - ETA: 2:24 - loss: 0.0127 - accuracy: 0.99 - ETA: 2:22 - loss: 0.0126 - accuracy: 0.99 - ETA: 2:20 - loss: 0.0125 - accuracy: 0.99 - ETA: 2:18 - loss: 0.0136 - accuracy: 0.99 - ETA: 2:16 - loss: 0.0135 - accuracy: 0.99 - ETA: 2:14 - loss: 0.0133 - accuracy: 0.99 - ETA: 2:12 - loss: 0.0133 - accuracy: 0.99 - ETA: 2:10 - loss: 0.0132 - accuracy: 0.99 - ETA: 2:08 - loss: 0.0140 - accuracy: 0.99 - ETA: 2:06 - loss: 0.0142 - accuracy: 0.99 - ETA: 2:04 - loss: 0.0141 - accuracy: 0.99 - ETA: 2:02 - loss: 0.0141 - accuracy: 0.99 - ETA: 2:00 - loss: 0.0140 - accuracy: 0.99 - ETA: 1:58 - loss: 0.0139 - accuracy: 0.99 - ETA: 1:56 - loss: 0.0138 - accuracy: 0.99 - ETA: 1:54 - loss: 0.0138 - accuracy: 0.99 - ETA: 1:52 - loss: 0.0138 - accuracy: 0.99 - ETA: 1:50 - loss: 0.0137 - accuracy: 0.99 - ETA: 1:48 - loss: 0.0137 - accuracy: 0.99 - ETA: 1:46 - loss: 0.0136 - accuracy: 0.99 - ETA: 1:44 - loss: 0.0135 - accuracy: 0.99 - ETA: 1:42 - loss: 0.0134 - accuracy: 0.99 - ETA: 1:40 - loss: 0.0133 - accuracy: 0.99 - ETA: 1:38 - loss: 0.0133 - accuracy: 0.99 - ETA: 1:36 - loss: 0.0132 - accuracy: 0.99 - ETA: 1:34 - loss: 0.0131 - accuracy: 0.99 - ETA: 1:32 - loss: 0.0130 - accuracy: 0.99 - ETA: 1:30 - loss: 0.0129 - accuracy: 0.99 - ETA: 1:28 - loss: 0.0128 - accuracy: 0.99 - ETA: 1:26 - loss: 0.0129 - accuracy: 0.99 - ETA: 1:24 - loss: 0.0128 - accuracy: 0.99 - ETA: 1:22 - loss: 0.0128 - accuracy: 0.99 - ETA: 1:20 - loss: 0.0128 - accuracy: 0.99 - ETA: 1:18 - loss: 0.0128 - accuracy: 0.99 - ETA: 1:16 - loss: 0.0129 - accuracy: 0.99 - ETA: 1:14 - loss: 0.0128 - accuracy: 0.99 - ETA: 1:12 - loss: 0.0128 - accuracy: 0.99 - ETA: 1:10 - loss: 0.0127 - accuracy: 0.99 - ETA: 1:08 - loss: 0.0127 - accuracy: 0.99 - ETA: 1:05 - loss: 0.0127 - accuracy: 0.99 - ETA: 1:03 - loss: 0.0128 - accuracy: 0.99 - ETA: 1:01 - loss: 0.0127 - accuracy: 0.99 - ETA: 59s - loss: 0.0128 - accuracy: 0.9962 - ETA: 57s - loss: 0.0127 - accuracy: 0.996 - ETA: 55s - loss: 0.0127 - accuracy: 0.996 - ETA: 53s - loss: 0.0128 - accuracy: 0.996 - ETA: 51s - loss: 0.0128 - accuracy: 0.996 - ETA: 49s - loss: 0.0127 - accuracy: 0.996 - ETA: 47s - loss: 0.0127 - accuracy: 0.996 - ETA: 45s - loss: 0.0126 - accuracy: 0.996 - ETA: 43s - loss: 0.0125 - accuracy: 0.996 - ETA: 42s - loss: 0.0125 - accuracy: 0.996 - ETA: 40s - loss: 0.0124 - accuracy: 0.996 - ETA: 38s - loss: 0.0124 - accuracy: 0.996 - ETA: 36s - loss: 0.0123 - accuracy: 0.996 - ETA: 33s - loss: 0.0124 - accuracy: 0.996 - ETA: 32s - loss: 0.0123 - accuracy: 0.996 - ETA: 30s - loss: 0.0123 - accuracy: 0.996 - ETA: 28s - loss: 0.0123 - accuracy: 0.996 - ETA: 26s - loss: 0.0124 - accuracy: 0.996 - ETA: 24s - loss: 0.0130 - accuracy: 0.996 - ETA: 22s - loss: 0.0129 - accuracy: 0.996 - ETA: 20s - loss: 0.0129 - accuracy: 0.996 - ETA: 18s - loss: 0.0129 - accuracy: 0.996 - ETA: 15s - loss: 0.0130 - accuracy: 0.996 - ETA: 13s - loss: 0.0131 - accuracy: 0.996 - ETA: 11s - loss: 0.0131 - accuracy: 0.996 - ETA: 9s - loss: 0.0131 - accuracy: 0.996 - ETA: 7s - loss: 0.0130 - accuracy: 0.99 - ETA: 6s - loss: 0.0129 - accuracy: 0.99 - ETA: 4s - loss: 0.0129 - accuracy: 0.99 - ETA: 2s - loss: 0.0129 - accuracy: 0.99 - 338s 65ms/step - loss: 0.0128 - accuracy: 0.9965 - val_loss: 1.2628 - val_accuracy: 0.7436\n",
      "Epoch 5/5\n"
     ]
    },
    {
     "name": "stdout",
     "output_type": "stream",
     "text": [
      "5216/5216 [==============================] - ETA: 5:22 - loss: 0.0080 - accuracy: 1.00 - ETA: 5:15 - loss: 0.0063 - accuracy: 1.00 - ETA: 5:11 - loss: 0.0048 - accuracy: 1.00 - ETA: 5:09 - loss: 0.0041 - accuracy: 1.00 - ETA: 5:11 - loss: 0.0046 - accuracy: 1.00 - ETA: 5:11 - loss: 0.0047 - accuracy: 1.00 - ETA: 5:08 - loss: 0.0046 - accuracy: 1.00 - ETA: 5:05 - loss: 0.0047 - accuracy: 1.00 - ETA: 5:02 - loss: 0.0042 - accuracy: 1.00 - ETA: 5:00 - loss: 0.0039 - accuracy: 1.00 - ETA: 4:57 - loss: 0.0050 - accuracy: 1.00 - ETA: 4:55 - loss: 0.0048 - accuracy: 1.00 - ETA: 4:54 - loss: 0.0049 - accuracy: 1.00 - ETA: 4:53 - loss: 0.0059 - accuracy: 1.00 - ETA: 4:51 - loss: 0.0067 - accuracy: 0.99 - ETA: 4:48 - loss: 0.0071 - accuracy: 0.99 - ETA: 4:46 - loss: 0.0069 - accuracy: 0.99 - ETA: 4:44 - loss: 0.0067 - accuracy: 0.99 - ETA: 4:42 - loss: 0.0071 - accuracy: 0.99 - ETA: 4:40 - loss: 0.0074 - accuracy: 0.99 - ETA: 4:38 - loss: 0.0072 - accuracy: 0.99 - ETA: 4:37 - loss: 0.0070 - accuracy: 0.99 - ETA: 4:35 - loss: 0.0067 - accuracy: 0.99 - ETA: 4:33 - loss: 0.0069 - accuracy: 0.99 - ETA: 4:32 - loss: 0.0067 - accuracy: 0.99 - ETA: 4:30 - loss: 0.0065 - accuracy: 0.99 - ETA: 4:27 - loss: 0.0070 - accuracy: 0.99 - ETA: 4:25 - loss: 0.0068 - accuracy: 0.99 - ETA: 4:24 - loss: 0.0066 - accuracy: 0.99 - ETA: 4:22 - loss: 0.0065 - accuracy: 0.99 - ETA: 4:20 - loss: 0.0063 - accuracy: 0.99 - ETA: 4:19 - loss: 0.0062 - accuracy: 0.99 - ETA: 4:17 - loss: 0.0062 - accuracy: 0.99 - ETA: 4:15 - loss: 0.0061 - accuracy: 0.99 - ETA: 4:13 - loss: 0.0061 - accuracy: 0.99 - ETA: 4:11 - loss: 0.0060 - accuracy: 0.99 - ETA: 4:09 - loss: 0.0059 - accuracy: 0.99 - ETA: 4:08 - loss: 0.0058 - accuracy: 0.99 - ETA: 4:06 - loss: 0.0058 - accuracy: 0.99 - ETA: 4:04 - loss: 0.0057 - accuracy: 0.99 - ETA: 4:02 - loss: 0.0056 - accuracy: 0.99 - ETA: 4:00 - loss: 0.0063 - accuracy: 0.99 - ETA: 3:59 - loss: 0.0063 - accuracy: 0.99 - ETA: 3:57 - loss: 0.0063 - accuracy: 0.99 - ETA: 3:55 - loss: 0.0065 - accuracy: 0.99 - ETA: 3:53 - loss: 0.0064 - accuracy: 0.99 - ETA: 3:51 - loss: 0.0063 - accuracy: 0.99 - ETA: 3:49 - loss: 0.0064 - accuracy: 0.99 - ETA: 3:47 - loss: 0.0069 - accuracy: 0.99 - ETA: 3:45 - loss: 0.0069 - accuracy: 0.99 - ETA: 3:43 - loss: 0.0069 - accuracy: 0.99 - ETA: 3:41 - loss: 0.0068 - accuracy: 0.99 - ETA: 3:39 - loss: 0.0068 - accuracy: 0.99 - ETA: 3:37 - loss: 0.0071 - accuracy: 0.99 - ETA: 3:35 - loss: 0.0073 - accuracy: 0.99 - ETA: 3:33 - loss: 0.0074 - accuracy: 0.99 - ETA: 3:31 - loss: 0.0073 - accuracy: 0.99 - ETA: 3:29 - loss: 0.0072 - accuracy: 0.99 - ETA: 3:27 - loss: 0.0072 - accuracy: 0.99 - ETA: 3:25 - loss: 0.0071 - accuracy: 0.99 - ETA: 3:23 - loss: 0.0072 - accuracy: 0.99 - ETA: 3:21 - loss: 0.0072 - accuracy: 0.99 - ETA: 3:19 - loss: 0.0081 - accuracy: 0.99 - ETA: 3:17 - loss: 0.0080 - accuracy: 0.99 - ETA: 3:15 - loss: 0.0079 - accuracy: 0.99 - ETA: 3:12 - loss: 0.0080 - accuracy: 0.99 - ETA: 3:10 - loss: 0.0080 - accuracy: 0.99 - ETA: 3:08 - loss: 0.0085 - accuracy: 0.99 - ETA: 3:06 - loss: 0.0084 - accuracy: 0.99 - ETA: 3:05 - loss: 0.0083 - accuracy: 0.99 - ETA: 3:02 - loss: 0.0084 - accuracy: 0.99 - ETA: 3:00 - loss: 0.0085 - accuracy: 0.99 - ETA: 2:58 - loss: 0.0085 - accuracy: 0.99 - ETA: 2:56 - loss: 0.0084 - accuracy: 0.99 - ETA: 2:54 - loss: 0.0083 - accuracy: 0.99 - ETA: 2:52 - loss: 0.0083 - accuracy: 0.99 - ETA: 2:50 - loss: 0.0082 - accuracy: 0.99 - ETA: 2:48 - loss: 0.0082 - accuracy: 0.99 - ETA: 2:46 - loss: 0.0081 - accuracy: 0.99 - ETA: 2:44 - loss: 0.0081 - accuracy: 0.99 - ETA: 2:42 - loss: 0.0081 - accuracy: 0.99 - ETA: 2:40 - loss: 0.0080 - accuracy: 0.99 - ETA: 2:38 - loss: 0.0080 - accuracy: 0.99 - ETA: 2:36 - loss: 0.0079 - accuracy: 0.99 - ETA: 2:34 - loss: 0.0079 - accuracy: 0.99 - ETA: 2:33 - loss: 0.0078 - accuracy: 0.99 - ETA: 2:31 - loss: 0.0078 - accuracy: 0.99 - ETA: 2:29 - loss: 0.0077 - accuracy: 0.99 - ETA: 2:27 - loss: 0.0082 - accuracy: 0.99 - ETA: 2:24 - loss: 0.0082 - accuracy: 0.99 - ETA: 2:22 - loss: 0.0082 - accuracy: 0.99 - ETA: 2:20 - loss: 0.0081 - accuracy: 0.99 - ETA: 2:18 - loss: 0.0082 - accuracy: 0.99 - ETA: 2:16 - loss: 0.0082 - accuracy: 0.99 - ETA: 2:14 - loss: 0.0081 - accuracy: 0.99 - ETA: 2:12 - loss: 0.0083 - accuracy: 0.99 - ETA: 2:10 - loss: 0.0084 - accuracy: 0.99 - ETA: 2:08 - loss: 0.0084 - accuracy: 0.99 - ETA: 2:06 - loss: 0.0084 - accuracy: 0.99 - ETA: 2:04 - loss: 0.0083 - accuracy: 0.99 - ETA: 2:02 - loss: 0.0082 - accuracy: 0.99 - ETA: 2:01 - loss: 0.0082 - accuracy: 0.99 - ETA: 1:59 - loss: 0.0082 - accuracy: 0.99 - ETA: 1:57 - loss: 0.0082 - accuracy: 0.99 - ETA: 1:55 - loss: 0.0081 - accuracy: 0.99 - ETA: 1:53 - loss: 0.0082 - accuracy: 0.99 - ETA: 1:51 - loss: 0.0082 - accuracy: 0.99 - ETA: 1:49 - loss: 0.0081 - accuracy: 0.99 - ETA: 1:47 - loss: 0.0081 - accuracy: 0.99 - ETA: 1:45 - loss: 0.0081 - accuracy: 0.99 - ETA: 1:43 - loss: 0.0081 - accuracy: 0.99 - ETA: 1:41 - loss: 0.0081 - accuracy: 0.99 - ETA: 1:39 - loss: 0.0083 - accuracy: 0.99 - ETA: 1:37 - loss: 0.0082 - accuracy: 0.99 - ETA: 1:35 - loss: 0.0082 - accuracy: 0.99 - ETA: 1:33 - loss: 0.0085 - accuracy: 0.99 - ETA: 1:31 - loss: 0.0085 - accuracy: 0.99 - ETA: 1:29 - loss: 0.0085 - accuracy: 0.99 - ETA: 1:27 - loss: 0.0084 - accuracy: 0.99 - ETA: 1:25 - loss: 0.0084 - accuracy: 0.99 - ETA: 1:23 - loss: 0.0083 - accuracy: 0.99 - ETA: 1:21 - loss: 0.0082 - accuracy: 0.99 - ETA: 1:19 - loss: 0.0082 - accuracy: 0.99 - ETA: 1:17 - loss: 0.0081 - accuracy: 0.99 - ETA: 1:15 - loss: 0.0081 - accuracy: 0.99 - ETA: 1:13 - loss: 0.0080 - accuracy: 0.99 - ETA: 1:11 - loss: 0.0080 - accuracy: 0.99 - ETA: 1:09 - loss: 0.0080 - accuracy: 0.99 - ETA: 1:07 - loss: 0.0080 - accuracy: 0.99 - ETA: 1:05 - loss: 0.0079 - accuracy: 0.99 - ETA: 1:03 - loss: 0.0080 - accuracy: 0.99 - ETA: 1:01 - loss: 0.0080 - accuracy: 0.99 - ETA: 59s - loss: 0.0079 - accuracy: 0.9984 - ETA: 57s - loss: 0.0079 - accuracy: 0.998 - ETA: 55s - loss: 0.0079 - accuracy: 0.998 - ETA: 53s - loss: 0.0080 - accuracy: 0.998 - ETA: 51s - loss: 0.0080 - accuracy: 0.998 - ETA: 49s - loss: 0.0080 - accuracy: 0.998 - ETA: 47s - loss: 0.0079 - accuracy: 0.998 - ETA: 45s - loss: 0.0079 - accuracy: 0.998 - ETA: 43s - loss: 0.0079 - accuracy: 0.998 - ETA: 41s - loss: 0.0079 - accuracy: 0.998 - ETA: 39s - loss: 0.0080 - accuracy: 0.998 - ETA: 37s - loss: 0.0079 - accuracy: 0.998 - ETA: 35s - loss: 0.0079 - accuracy: 0.998 - ETA: 33s - loss: 0.0079 - accuracy: 0.998 - ETA: 31s - loss: 0.0079 - accuracy: 0.998 - ETA: 29s - loss: 0.0078 - accuracy: 0.998 - ETA: 27s - loss: 0.0078 - accuracy: 0.998 - ETA: 25s - loss: 0.0078 - accuracy: 0.998 - ETA: 23s - loss: 0.0077 - accuracy: 0.998 - ETA: 21s - loss: 0.0077 - accuracy: 0.998 - ETA: 19s - loss: 0.0077 - accuracy: 0.998 - ETA: 17s - loss: 0.0077 - accuracy: 0.998 - ETA: 15s - loss: 0.0077 - accuracy: 0.998 - ETA: 13s - loss: 0.0076 - accuracy: 0.998 - ETA: 11s - loss: 0.0076 - accuracy: 0.998 - ETA: 9s - loss: 0.0076 - accuracy: 0.998 - ETA: 7s - loss: 0.0076 - accuracy: 0.99 - ETA: 5s - loss: 0.0076 - accuracy: 0.99 - ETA: 3s - loss: 0.0075 - accuracy: 0.99 - ETA: 1s - loss: 0.0075 - accuracy: 0.99 - 334s 64ms/step - loss: 0.0075 - accuracy: 0.9987 - val_loss: 1.2147 - val_accuracy: 0.7692\n"
     ]
    }
   ],
   "source": [
    "history = model.fit(X_train, y_train, validation_data = (X_test , y_test) ,callbacks=[lr_reduce,checkpoint] ,epochs=epochs)"
   ]
  },
  {
   "cell_type": "code",
   "execution_count": 29,
   "metadata": {},
   "outputs": [
    {
     "data": {
      "image/png": "[encoded data removed]",
      "text/plain": [
       "<Figure size 432x288 with 1 Axes>"
      ]
     },
     "metadata": {
      "needs_background": "light"
     },
     "output_type": "display_data"
    },
    {
     "data": {
      "image/png": "[encoded data removed]",
      "text/plain": [
       "<Figure size 432x288 with 1 Axes>"
      ]
     },
     "metadata": {
      "needs_background": "light"
     },
     "output_type": "display_data"
    }
   ],
   "source": [
    "import matplotlib.pyplot as plt\n",
    "\n",
    "plt.plot(history.history['accuracy'])\n",
    "plt.plot(history.history['val_accuracy'])\n",
    "plt.title('model accuracy')\n",
    "plt.ylabel('accuracy')\n",
    "plt.xlabel('epoch')\n",
    "plt.legend(['train', 'test'], loc='upper left')\n",
    "plt.show()\n",
    "\n",
    "plt.plot(history.history['loss'])\n",
    "plt.plot(history.history['val_loss'])\n",
    "plt.title('model loss')\n",
    "plt.ylabel('loss')\n",
    "plt.xlabel('epoch')\n",
    "plt.legend(['train', 'test'], loc='upper left')\n",
    "plt.show()"
   ]
  },
  {
   "cell_type": "code",
   "execution_count": 30,
   "metadata": {},
   "outputs": [],
   "source": [
    "from sklearn.metrics import confusion_matrix\n",
    "\n",
    "pred = model.predict(X_test)\n",
    "pred = np.argmax(pred,axis=1)\n",
    "y_true = np.argmax(y_test,axis=1)"
   ]
  },
  {
   "cell_type": "code",
   "execution_count": 31,
   "metadata": {},
   "outputs": [
    {
     "data": {
      "image/png": "[encoded data removed]",
      "text/plain": [
       "<Figure size 360x360 with 1 Axes>"
      ]
     },
     "metadata": {
      "needs_background": "light"
     },
     "output_type": "display_data"
    }
   ],
   "source": [
    "CM = confusion_matrix(y_true,pred)\n",
    "from mlxtend.plotting import plot_confusion_matrix\n",
    "fig, ax = plot_confusion_matrix(conf_mat=CM, figsize=(5, 5))\n",
    "plt.show()"
   ]
  },
  {
   "cell_type": "code",
   "execution_count": 32,
   "metadata": {},
   "outputs": [
    {
     "name": "stdout",
     "output_type": "stream",
     "text": [
      "________________________________________\n",
      "Derived Report\n",
      "________________________________________\n",
      "Precision     : 63.52%\n",
      "Recall        : 100.00%\n",
      "F1-Score      : 77.69%\n",
      "Accuracy      : 64.10%\n",
      "________________________________________\n",
      "\n",
      "\n",
      "\n"
     ]
    }
   ],
   "source": [
    "from sklearn.metrics import accuracy_score,precision_score, recall_score, f1_score, roc_auc_score, confusion_matrix, classification_report\n",
    "\n",
    "precision = precision_score(y_true, pred)\n",
    "recall = recall_score(y_true, pred)\n",
    "f1 = f1_score(y_true, pred)\n",
    "accuracy = accuracy_score(y_true, pred)\n",
    "\n",
    "print('_'*40)\n",
    "print(\"Derived Report\")\n",
    "print('_'*40)\n",
    "print(\"%s%.2f%s\"% (\"Precision     : \", precision*100, \"%\"))\n",
    "print(\"%s%.2f%s\"% (\"Recall        : \", recall*100,    \"%\"))\n",
    "print(\"%s%.2f%s\"% (\"F1-Score      : \", f1*100,        \"%\"))\n",
    "print(\"%s%.2f%s\"% (\"Accuracy      : \", accuracy*100,        \"%\"))\n",
    "print('_'*40)\n",
    "print(\"\\n\\n\")"
   ]
  }
 ],
 "metadata": {
  "kernelspec": {
   "display_name": "Python 3",
   "language": "python",
   "name": "python3"
  },
  "language_info": {
   "codemirror_mode": {
    "name": "ipython",
    "version": 3
   },
   "file_extension": ".py",
   "mimetype": "text/x-python",
   "name": "python",
   "nbconvert_exporter": "python",
   "pygments_lexer": "ipython3",
   "version": "3.7.3"
  }
 },
 "nbformat": 4,
 "nbformat_minor": 2
}
